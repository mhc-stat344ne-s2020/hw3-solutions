{
  "nbformat": 4,
  "nbformat_minor": 0,
  "metadata": {
    "colab": {
      "name": "HW3.ipynb",
      "provenance": [],
      "collapsed_sections": []
    },
    "kernelspec": {
      "name": "python3",
      "display_name": "Python 3"
    },
    "accelerator": "GPU"
  },
  "cells": [
    {
      "cell_type": "markdown",
      "metadata": {
        "id": "ssyEy81nY67K",
        "colab_type": "text"
      },
      "source": [
        "We're going to work with another of the examples from Chapter 3 of Chollet in this assignment.  Previously we used an example where the response was categorical with two categories; in this example, the response has 46 categories.\n",
        "\n",
        "Our goal is to use the text of newswires (a very short summary of a news article) to classify them into one of 46 different topics.  The topics are things like 'cocoa', 'grain', 'earn', 'housing', 'money-supply', 'nat-gas', and so on.  In this data set, each newswire only belongs to one of these classes.\n",
        "\n",
        "I have once again taken all of the code below to preprocess the data straight out of Chapter 3 of Chollet.  The book describes how the code works in some detail, so I encourage you to give it a read.\n",
        "\n",
        "### Import modules"
      ]
    },
    {
      "cell_type": "code",
      "metadata": {
        "id": "IjIHVO6aJQg7",
        "colab_type": "code",
        "colab": {
          "base_uri": "https://localhost:8080/",
          "height": 82
        },
        "outputId": "395dda93-5610-43a8-f508-ce8dc88d3181"
      },
      "source": [
        "from keras import models\n",
        "from keras import layers\n",
        "from keras import optimizers\n",
        "from keras.datasets import reuters\n",
        "import matplotlib.pyplot as plt\n",
        "from scipy.special import softmax\n",
        "import numpy as np\n",
        "import copy"
      ],
      "execution_count": 3,
      "outputs": [
        {
          "output_type": "stream",
          "text": [
            "Using TensorFlow backend.\n"
          ],
          "name": "stderr"
        },
        {
          "output_type": "display_data",
          "data": {
            "text/html": [
              "<p style=\"color: red;\">\n",
              "The default version of TensorFlow in Colab will soon switch to TensorFlow 2.x.<br>\n",
              "We recommend you <a href=\"https://www.tensorflow.org/guide/migrate\" target=\"_blank\">upgrade</a> now \n",
              "or ensure your notebook will continue to use TensorFlow 1.x via the <code>%tensorflow_version 1.x</code> magic:\n",
              "<a href=\"https://colab.research.google.com/notebooks/tensorflow_version.ipynb\" target=\"_blank\">more info</a>.</p>\n"
            ],
            "text/plain": [
              "<IPython.core.display.HTML object>"
            ]
          },
          "metadata": {
            "tags": []
          }
        }
      ]
    },
    {
      "cell_type": "markdown",
      "metadata": {
        "id": "xfXUwnHKlM2m",
        "colab_type": "text"
      },
      "source": [
        "### Load and preprocess the data\n",
        "\n",
        "This will take a few seconds to run; it downloads a large data set.\n",
        "\n",
        "The the newswires are one-hot encoded using the exact same representation as was used for the IMDB reviews."
      ]
    },
    {
      "cell_type": "code",
      "metadata": {
        "id": "nyXiHGfW3e1j",
        "colab_type": "code",
        "colab": {
          "base_uri": "https://localhost:8080/",
          "height": 52
        },
        "outputId": "35d2cd79-73e5-4ca1-932e-54ef41ce99af"
      },
      "source": [
        "(train_data, train_labels), (test_data, test_labels) = reuters.load_data(\n",
        "    num_words=10000)\n",
        "\n",
        "def vectorize_sequences(sequences, dimension=10000):\n",
        "    results = np.zeros((len(sequences), dimension))\n",
        "    for i, sequence in enumerate(sequences):\n",
        "        results[i, sequence] = 1.\n",
        "    return results\n",
        "\n",
        "x_train = vectorize_sequences(train_data)\n",
        "x_test = vectorize_sequences(test_data)\n",
        "\n",
        "def to_one_hot(labels, dimension=46):\n",
        "    results = np.zeros((len(labels), dimension))\n",
        "    for i, label in enumerate(labels):\n",
        "        results[i, label] = 1.\n",
        "    return results\n",
        "\n",
        "one_hot_train_labels = to_one_hot(train_labels)\n",
        "one_hot_test_labels = to_one_hot(test_labels)\n",
        "\n",
        "x_val = x_train[:1000]\n",
        "partial_x_train = x_train[1000:]\n",
        "\n",
        "y_val = one_hot_train_labels[:1000]\n",
        "partial_y_train = one_hot_train_labels[1000:]"
      ],
      "execution_count": 4,
      "outputs": [
        {
          "output_type": "stream",
          "text": [
            "Downloading data from https://s3.amazonaws.com/text-datasets/reuters.npz\n",
            "2113536/2110848 [==============================] - 2s 1us/step\n"
          ],
          "name": "stdout"
        }
      ]
    },
    {
      "cell_type": "markdown",
      "metadata": {
        "id": "bVGouITLF_G3",
        "colab_type": "text"
      },
      "source": [
        "Let's look at one of the newswires to see what it looks like:"
      ]
    },
    {
      "cell_type": "code",
      "metadata": {
        "id": "iOoHw1wBCxoO",
        "colab_type": "code",
        "colab": {
          "base_uri": "https://localhost:8080/",
          "height": 90
        },
        "outputId": "ccde75d2-b27b-4b86-da4a-ad548400517c"
      },
      "source": [
        "word_index = reuters.get_word_index()\n",
        "reverse_word_index = dict([(value, key) for (key, value) in word_index.items()])\n",
        "decoded_newswire = ' '.join([reverse_word_index.get(i - 3, '?') for i in\n",
        "    train_data[0]])\n",
        "print(decoded_newswire)"
      ],
      "execution_count": 5,
      "outputs": [
        {
          "output_type": "stream",
          "text": [
            "Downloading data from https://s3.amazonaws.com/text-datasets/reuters_word_index.json\n",
            "557056/550378 [==============================] - 1s 2us/step\n",
            "? ? ? said as a result of its december acquisition of space co it expects earnings per share in 1987 of 1 15 to 1 30 dlrs per share up from 70 cts in 1986 the company said pretax net should rise to nine to 10 mln dlrs from six mln dlrs in 1986 and rental operation revenues to 19 to 22 mln dlrs from 12 5 mln dlrs it said cash flow per share this year should be 2 50 to three dlrs reuter 3\n"
          ],
          "name": "stdout"
        }
      ]
    },
    {
      "cell_type": "markdown",
      "metadata": {
        "id": "Tb4zBhhGGRkn",
        "colab_type": "text"
      },
      "source": [
        "### 1. Define a Keras model and fit it.\n",
        "\n",
        "I'm making this an exercise to force you to get more practice with defining and fitting models in Keras, but note that the solution is in Chapter 3 of Chollet in case you get stuck...\n",
        "\n",
        "Our model should have the following structure:\n",
        "\n",
        "* Input layer has 10000 features (we kept the 10000 most commonly occuring words, and they are one-hot encoded).\n",
        "* A fully connected (in other words, dense) hidden layer with 64 units and relu activation.\n",
        "* A second fully connected (in other words, dense) hidden layer with 64 units and relu activation.\n",
        "* A fully connected output layer with number of units equal to the number of classes for the response and a softmax activation.\n",
        "\n",
        "Compile the model using `rmsprop` as the optimizer, 'categorical_crossentropy' as the loss, and ['accuracy'] as the only additional metric.\n",
        "\n",
        "Fit the model using `partial_x_train` and `partial_y_train` as the training data, 20 epochs, a `batch_size` of 512, and `validation_data` given by `(x_val, y_val)`.  Save the model fit history in an object called `history` so that we can plot the training and validation set accuracy later."
      ]
    },
    {
      "cell_type": "code",
      "metadata": {
        "id": "2v3ZYAg6mwJr",
        "colab_type": "code",
        "outputId": "5ed8b760-06a4-4514-8e60-92523c0eab32",
        "colab": {
          "base_uri": "https://localhost:8080/",
          "height": 1000
        }
      },
      "source": [
        "model = models.Sequential()\n",
        "model.add(layers.Dense(64, activation='relu', input_shape=(10000,)))\n",
        "model.add(layers.Dense(64, activation='relu'))\n",
        "model.add(layers.Dense(46, activation='softmax'))\n",
        "\n",
        "model.compile(optimizer='rmsprop',\n",
        "              loss='categorical_crossentropy',\n",
        "              metrics=['accuracy'])\n",
        "\n",
        "history = model.fit(partial_x_train,\n",
        "                    partial_y_train,\n",
        "                    epochs=20,\n",
        "                    batch_size=512,\n",
        "                    validation_data=(x_val, y_val))"
      ],
      "execution_count": 6,
      "outputs": [
        {
          "output_type": "stream",
          "text": [
            "WARNING:tensorflow:From /usr/local/lib/python3.6/dist-packages/keras/backend/tensorflow_backend.py:66: The name tf.get_default_graph is deprecated. Please use tf.compat.v1.get_default_graph instead.\n",
            "\n",
            "WARNING:tensorflow:From /usr/local/lib/python3.6/dist-packages/keras/backend/tensorflow_backend.py:541: The name tf.placeholder is deprecated. Please use tf.compat.v1.placeholder instead.\n",
            "\n",
            "WARNING:tensorflow:From /usr/local/lib/python3.6/dist-packages/keras/backend/tensorflow_backend.py:4432: The name tf.random_uniform is deprecated. Please use tf.random.uniform instead.\n",
            "\n",
            "WARNING:tensorflow:From /usr/local/lib/python3.6/dist-packages/keras/optimizers.py:793: The name tf.train.Optimizer is deprecated. Please use tf.compat.v1.train.Optimizer instead.\n",
            "\n",
            "WARNING:tensorflow:From /usr/local/lib/python3.6/dist-packages/keras/backend/tensorflow_backend.py:3576: The name tf.log is deprecated. Please use tf.math.log instead.\n",
            "\n",
            "WARNING:tensorflow:From /usr/local/lib/python3.6/dist-packages/tensorflow_core/python/ops/math_grad.py:1424: where (from tensorflow.python.ops.array_ops) is deprecated and will be removed in a future version.\n",
            "Instructions for updating:\n",
            "Use tf.where in 2.0, which has the same broadcast rule as np.where\n",
            "WARNING:tensorflow:From /usr/local/lib/python3.6/dist-packages/keras/backend/tensorflow_backend.py:1033: The name tf.assign_add is deprecated. Please use tf.compat.v1.assign_add instead.\n",
            "\n",
            "WARNING:tensorflow:From /usr/local/lib/python3.6/dist-packages/keras/backend/tensorflow_backend.py:1020: The name tf.assign is deprecated. Please use tf.compat.v1.assign instead.\n",
            "\n",
            "WARNING:tensorflow:From /usr/local/lib/python3.6/dist-packages/keras/backend/tensorflow_backend.py:3005: The name tf.Session is deprecated. Please use tf.compat.v1.Session instead.\n",
            "\n",
            "Train on 7982 samples, validate on 1000 samples\n",
            "Epoch 1/20\n",
            "WARNING:tensorflow:From /usr/local/lib/python3.6/dist-packages/keras/backend/tensorflow_backend.py:190: The name tf.get_default_session is deprecated. Please use tf.compat.v1.get_default_session instead.\n",
            "\n",
            "WARNING:tensorflow:From /usr/local/lib/python3.6/dist-packages/keras/backend/tensorflow_backend.py:197: The name tf.ConfigProto is deprecated. Please use tf.compat.v1.ConfigProto instead.\n",
            "\n",
            "WARNING:tensorflow:From /usr/local/lib/python3.6/dist-packages/keras/backend/tensorflow_backend.py:207: The name tf.global_variables is deprecated. Please use tf.compat.v1.global_variables instead.\n",
            "\n",
            "WARNING:tensorflow:From /usr/local/lib/python3.6/dist-packages/keras/backend/tensorflow_backend.py:216: The name tf.is_variable_initialized is deprecated. Please use tf.compat.v1.is_variable_initialized instead.\n",
            "\n",
            "WARNING:tensorflow:From /usr/local/lib/python3.6/dist-packages/keras/backend/tensorflow_backend.py:223: The name tf.variables_initializer is deprecated. Please use tf.compat.v1.variables_initializer instead.\n",
            "\n",
            "7982/7982 [==============================] - 10s 1ms/step - loss: 2.7011 - acc: 0.5023 - val_loss: 1.8040 - val_acc: 0.6290\n",
            "Epoch 2/20\n",
            "7982/7982 [==============================] - 0s 57us/step - loss: 1.4649 - acc: 0.6964 - val_loss: 1.3439 - val_acc: 0.7160\n",
            "Epoch 3/20\n",
            "7982/7982 [==============================] - 0s 55us/step - loss: 1.0721 - acc: 0.7739 - val_loss: 1.1649 - val_acc: 0.7450\n",
            "Epoch 4/20\n",
            "7982/7982 [==============================] - 0s 57us/step - loss: 0.8333 - acc: 0.8250 - val_loss: 1.0513 - val_acc: 0.7720\n",
            "Epoch 5/20\n",
            "7982/7982 [==============================] - 0s 55us/step - loss: 0.6623 - acc: 0.8577 - val_loss: 0.9933 - val_acc: 0.7800\n",
            "Epoch 6/20\n",
            "7982/7982 [==============================] - 0s 55us/step - loss: 0.5237 - acc: 0.8914 - val_loss: 0.9229 - val_acc: 0.8080\n",
            "Epoch 7/20\n",
            "7982/7982 [==============================] - 0s 55us/step - loss: 0.4235 - acc: 0.9153 - val_loss: 0.9133 - val_acc: 0.8100\n",
            "Epoch 8/20\n",
            "7982/7982 [==============================] - 0s 56us/step - loss: 0.3427 - acc: 0.9326 - val_loss: 0.8989 - val_acc: 0.8150\n",
            "Epoch 9/20\n",
            "7982/7982 [==============================] - 0s 56us/step - loss: 0.2851 - acc: 0.9404 - val_loss: 0.9184 - val_acc: 0.8090\n",
            "Epoch 10/20\n",
            "7982/7982 [==============================] - 0s 55us/step - loss: 0.2364 - acc: 0.9458 - val_loss: 0.9283 - val_acc: 0.8120\n",
            "Epoch 11/20\n",
            "7982/7982 [==============================] - 0s 55us/step - loss: 0.2031 - acc: 0.9479 - val_loss: 0.9194 - val_acc: 0.8120\n",
            "Epoch 12/20\n",
            "7982/7982 [==============================] - 0s 55us/step - loss: 0.1822 - acc: 0.9523 - val_loss: 0.9346 - val_acc: 0.8050\n",
            "Epoch 13/20\n",
            "7982/7982 [==============================] - 0s 56us/step - loss: 0.1648 - acc: 0.9513 - val_loss: 0.9642 - val_acc: 0.8110\n",
            "Epoch 14/20\n",
            "7982/7982 [==============================] - 0s 56us/step - loss: 0.1461 - acc: 0.9559 - val_loss: 0.9513 - val_acc: 0.8180\n",
            "Epoch 15/20\n",
            "7982/7982 [==============================] - 0s 56us/step - loss: 0.1395 - acc: 0.9564 - val_loss: 0.9885 - val_acc: 0.8150\n",
            "Epoch 16/20\n",
            "7982/7982 [==============================] - 0s 55us/step - loss: 0.1314 - acc: 0.9539 - val_loss: 1.0002 - val_acc: 0.8100\n",
            "Epoch 17/20\n",
            "7982/7982 [==============================] - 0s 56us/step - loss: 0.1230 - acc: 0.9568 - val_loss: 1.0205 - val_acc: 0.8100\n",
            "Epoch 18/20\n",
            "7982/7982 [==============================] - 0s 56us/step - loss: 0.1188 - acc: 0.9567 - val_loss: 1.0491 - val_acc: 0.8040\n",
            "Epoch 19/20\n",
            "7982/7982 [==============================] - 0s 54us/step - loss: 0.1155 - acc: 0.9575 - val_loss: 1.1210 - val_acc: 0.7830\n",
            "Epoch 20/20\n",
            "7982/7982 [==============================] - 0s 57us/step - loss: 0.1111 - acc: 0.9579 - val_loss: 1.0856 - val_acc: 0.8030\n"
          ],
          "name": "stdout"
        }
      ]
    },
    {
      "cell_type": "markdown",
      "metadata": {
        "id": "RVgnF1odm0wj",
        "colab_type": "text"
      },
      "source": [
        "### Plot model estimation history\n",
        "\n",
        "You don't have to do anything here other than run this code."
      ]
    },
    {
      "cell_type": "code",
      "metadata": {
        "id": "wr1aZ_TomwMs",
        "colab_type": "code",
        "colab": {
          "base_uri": "https://localhost:8080/",
          "height": 295
        },
        "outputId": "2411ae06-5fdf-486c-ac51-25766e537c37"
      },
      "source": [
        "loss = history.history['loss']\n",
        "val_loss = history.history['val_loss']\n",
        "\n",
        "epochs = range(1, len(loss) + 1)\n",
        "\n",
        "plt.plot(epochs, loss, 'bo', label='Training loss')\n",
        "plt.plot(epochs, val_loss, 'b', label='Validation loss')\n",
        "plt.title('Training and validation loss')\n",
        "plt.xlabel('Epochs')\n",
        "plt.ylabel('Loss')\n",
        "plt.legend()\n",
        "\n",
        "plt.show()"
      ],
      "execution_count": 7,
      "outputs": [
        {
          "output_type": "display_data",
          "data": {
            "image/png": "[encoded data removed]",
            "text/plain": [
              "<Figure size 432x288 with 1 Axes>"
            ]
          },
          "metadata": {
            "tags": []
          }
        }
      ]
    },
    {
      "cell_type": "code",
      "metadata": {
        "id": "zecReazzJWCU",
        "colab_type": "code",
        "colab": {
          "base_uri": "https://localhost:8080/",
          "height": 295
        },
        "outputId": "cfea0057-4576-4690-8ca5-03ad3821aa0a"
      },
      "source": [
        "acc = history.history['acc']\n",
        "val_acc = history.history['val_acc']\n",
        "\n",
        "plt.plot(epochs, acc, 'bo', label='Training acc')\n",
        "plt.plot(epochs, val_acc, 'b', label='Validation acc')\n",
        "plt.title('Training and validation accuracy')\n",
        "plt.xlabel('Epochs')\n",
        "plt.ylabel('Accuracy')\n",
        "plt.legend()\n",
        "\n",
        "plt.show()"
      ],
      "execution_count": 8,
      "outputs": [
        {
          "output_type": "display_data",
          "data": {
            "image/png": "[encoded data removed]",
            "text/plain": [
              "<Figure size 432x288 with 1 Axes>"
            ]
          },
          "metadata": {
            "tags": []
          }
        }
      ]
    },
    {
      "cell_type": "markdown",
      "metadata": {
        "id": "mojt2WoAhOuE",
        "colab_type": "text"
      },
      "source": [
        "### 2. Explain how you can tell the model has overfit the training data from the plots of training and validation set performance above."
      ]
    },
    {
      "cell_type": "markdown",
      "metadata": {
        "id": "B6liLKPmhZlO",
        "colab_type": "text"
      },
      "source": [
        "(add your answer here)"
      ]
    },
    {
      "cell_type": "markdown",
      "metadata": {
        "id": "FNIU7KkdmmCD",
        "colab_type": "text"
      },
      "source": [
        "### Get test set performance"
      ]
    },
    {
      "cell_type": "code",
      "metadata": {
        "id": "DTAkK_wwkOOQ",
        "colab_type": "code",
        "outputId": "103f67d6-e4f9-4cdb-d92d-07bbad3d971c",
        "colab": {
          "base_uri": "https://localhost:8080/",
          "height": 52
        }
      },
      "source": [
        "model.evaluate(x_test, one_hot_test_labels)"
      ],
      "execution_count": 9,
      "outputs": [
        {
          "output_type": "stream",
          "text": [
            "2246/2246 [==============================] - 0s 90us/step\n"
          ],
          "name": "stdout"
        },
        {
          "output_type": "execute_result",
          "data": {
            "text/plain": [
              "[1.2110338274751087, 0.7827248442204849]"
            ]
          },
          "metadata": {
            "tags": []
          },
          "execution_count": 9
        }
      ]
    },
    {
      "cell_type": "markdown",
      "metadata": {
        "id": "Y5xe5yjfjDlj",
        "colab_type": "text"
      },
      "source": [
        "For comparison, here's the accuracy of an approach that randomly shuffles the test set labels (basically, how well would we do if we just made predictions at random?)"
      ]
    },
    {
      "cell_type": "code",
      "metadata": {
        "id": "dRwHjfjwjQcP",
        "colab_type": "code",
        "colab": {
          "base_uri": "https://localhost:8080/",
          "height": 35
        },
        "outputId": "91148ca3-33db-4d5b-e841-7c4eb64ff204"
      },
      "source": [
        "test_labels_copy = copy.copy(test_labels)\n",
        "np.random.shuffle(test_labels_copy)\n",
        "hits_array = np.array(test_labels) == np.array(test_labels_copy)\n",
        "float(np.sum(hits_array)) / len(test_labels)"
      ],
      "execution_count": 10,
      "outputs": [
        {
          "output_type": "execute_result",
          "data": {
            "text/plain": [
              "0.1981300089047195"
            ]
          },
          "metadata": {
            "tags": []
          },
          "execution_count": 10
        }
      ]
    },
    {
      "cell_type": "markdown",
      "metadata": {
        "id": "MaY2Z5o_mo8n",
        "colab_type": "text"
      },
      "source": [
        "### Transpose/reshape data so that it's shaped the way our manual implementation expects."
      ]
    },
    {
      "cell_type": "code",
      "metadata": {
        "id": "xVTtdrfK7dS4",
        "colab_type": "code",
        "colab": {}
      },
      "source": [
        "partial_x_train = partial_x_train.T\n",
        "partial_y_train = partial_y_train.T\n",
        "x_val = x_val.T\n",
        "y_val = y_val.T\n",
        "x_test = x_test.T\n",
        "y_test = one_hot_test_labels.T"
      ],
      "execution_count": 0,
      "outputs": []
    },
    {
      "cell_type": "code",
      "metadata": {
        "id": "FUPB3fyq9hfR",
        "colab_type": "code",
        "outputId": "caca4a89-8c0a-4073-b423-6c28d71b6d37",
        "colab": {
          "base_uri": "https://localhost:8080/",
          "height": 122
        }
      },
      "source": [
        "print(partial_x_train.shape)\n",
        "print(partial_y_train.shape)\n",
        "print(x_val.shape)\n",
        "print(y_val.shape)\n",
        "print(x_test.shape)\n",
        "print(y_test.shape)"
      ],
      "execution_count": 12,
      "outputs": [
        {
          "output_type": "stream",
          "text": [
            "(10000, 7982)\n",
            "(46, 7982)\n",
            "(10000, 1000)\n",
            "(46, 1000)\n",
            "(10000, 2246)\n",
            "(46, 2246)\n"
          ],
          "name": "stdout"
        }
      ]
    },
    {
      "cell_type": "markdown",
      "metadata": {
        "id": "chfeW2nwoexP",
        "colab_type": "text"
      },
      "source": [
        "### Model in NumPy\n",
        "\n",
        "Again, we're going to code this model up from scratch.  We will implement 5 functions:\n",
        "1. `initialize_params` will generate random starting values for the parameters b and w.\n",
        "2. `forward_prop` does the calculations for forward propagation.\n",
        "3. `backward_prop` does the calculations for backward propagation.\n",
        "4. `grad_check` does gradient checking so that we can be sure our backward propagation is correct.  I've written this one.\n",
        "5. `fit_model` does gradient descent to estimate the model parameters.\n",
        "\n",
        "Note that as defined above, our network has 3 layers (after the input layer):\n",
        " * Layer 1 has 64 units and a relu activation\n",
        " * Layer 2 has 64 units and a relu activation\n",
        " * Layer 3 has 46 unit and a softmax activation\n",
        "\n",
        "### 1. initialize_params\n",
        "\n",
        "Add the appropriate shape specifications to the initializations below.\n",
        "\n",
        "**Note that you are defining $w$, not $w^T$**"
      ]
    },
    {
      "cell_type": "code",
      "metadata": {
        "id": "G-dyx8N_8Mkr",
        "colab_type": "code",
        "colab": {}
      },
      "source": [
        "def initialize_params(num_features, seed = 9433):\n",
        "  '''\n",
        "  Initialize parameter values for a network with 3 layers:\n",
        "  layer 1 has 64 units, layer 2 has 64 units, and layer 3 has 46 units\n",
        "\n",
        "  Arguments:\n",
        "    - num_features: number of input features\n",
        "    - seed: seed to use for random number generation\n",
        "  \n",
        "  Return:\n",
        "    - Dictionary with initial values for b1, w1, b2, w2, b3, and w3\n",
        "  '''\n",
        "  # set seed\n",
        "  np.random.seed(seed)\n",
        "\n",
        "  # layer 1 parameters -- replace Nones with appropriate shape\n",
        "  b1 = np.random.standard_normal((64, 1)) * 0.1 \n",
        "  w1 = np.random.standard_normal((num_features, 64)) * 0.1\n",
        "\n",
        "  # layer 2 parameters -- replace Nones with appropriate shape\n",
        "  b2 = np.random.standard_normal((64, 1)) * 0.1\n",
        "  w2 = np.random.standard_normal((64, 64)) * 0.1\n",
        "\n",
        "  # layer 3 parameters -- replace Nones with appropriate shape\n",
        "  b3 = np.random.standard_normal((46, 1)) * 0.1\n",
        "  w3 = np.random.standard_normal((64, 46)) * 0.1\n",
        "\n",
        "  return({\n",
        "      'b1': b1,\n",
        "      'w1': w1,\n",
        "      'b2': b2,\n",
        "      'w2': w2,\n",
        "      'b3': b3,\n",
        "      'w3': w3\n",
        "  })"
      ],
      "execution_count": 0,
      "outputs": []
    },
    {
      "cell_type": "markdown",
      "metadata": {
        "id": "ffbcK7QZrkiq",
        "colab_type": "text"
      },
      "source": [
        "### 2. forward_prop"
      ]
    },
    {
      "cell_type": "code",
      "metadata": {
        "id": "MkIvAcc7-DRV",
        "colab_type": "code",
        "colab": {}
      },
      "source": [
        "def forward_prop(params, x):\n",
        "  '''\n",
        "  Forward propagation calculations\n",
        "\n",
        "  Arguments:\n",
        "    - params: dictionary with values for b1, w1, b2, w2, b3, w3\n",
        "    - x: matrix of features, shape (p, m)\n",
        "  \n",
        "  Return:\n",
        "    - Dictionary with z and a values for each layer\n",
        "  '''\n",
        "  # Pull out parameters from params dictionary\n",
        "  b1 = params['b1']\n",
        "  w1 = params['w1']\n",
        "  b2 = params['b2']\n",
        "  w2 = params['w2']\n",
        "  b3 = params['b3']\n",
        "  w3 = params['w3']\n",
        "  \n",
        "  # Calculate forward propagation\n",
        "  # You can use np.maximum(0, ___) to compute the relu activation function\n",
        "  # We have imported the softmax function\n",
        "  z1 = b1 + np.dot(w1.T, x)\n",
        "  a1 = np.maximum(0, z1)\n",
        "\n",
        "  z2 = b2 + np.dot(w2.T, a1)\n",
        "  a2 = np.maximum(0, z2)\n",
        "\n",
        "  z3 = b3 + np.dot(w3.T, a2)\n",
        "  a3 = softmax(z3, axis = 0)\n",
        "  \n",
        "  # Return dictionary of results from forward propagation\n",
        "  return({\n",
        "    'z1': z1,\n",
        "    'a1': a1,\n",
        "    'z2': z2,\n",
        "    'a2': a2,\n",
        "    'z3': z3,\n",
        "    'a3': a3\n",
        "  })"
      ],
      "execution_count": 0,
      "outputs": []
    },
    {
      "cell_type": "markdown",
      "metadata": {
        "id": "A-BSu3vhtG6J",
        "colab_type": "text"
      },
      "source": [
        "### 3. backward_prop"
      ]
    },
    {
      "cell_type": "code",
      "metadata": {
        "id": "LLIPXARSALF3",
        "colab_type": "code",
        "colab": {}
      },
      "source": [
        "def backward_prop(params, x, y, forward_cache):\n",
        "  '''\n",
        "  Backward propagation calculations\n",
        "\n",
        "  Arguments:\n",
        "    - params: dictionary with values for b1, w1, b2, w2, b3, w3\n",
        "    - x: array of features, shape (p, m)\n",
        "    - y: array of responses, shape (1, m)\n",
        "    - forward_cache: Dictionary with z and a values for each layer\n",
        "      (return value from forward_prop)\n",
        "  \n",
        "  Return:\n",
        "    - Dictionary of derivatives of cost function J with respect to\n",
        "      b1, w1, b2, w2, b3, w3\n",
        "  '''\n",
        "  # Extract quantities needed for backward propagation calculations\n",
        "  m = x.shape[1]\n",
        "\n",
        "  z1 = forward_cache['z1']\n",
        "  a1 = forward_cache['a1']\n",
        "  z2 = forward_cache['z2']\n",
        "  a2 = forward_cache['a2']\n",
        "  z3 = forward_cache['z3']\n",
        "  a3 = forward_cache['a3']\n",
        "\n",
        "  w1 = params['w1']\n",
        "  w2 = params['w2']\n",
        "  w3 = params['w3']\n",
        "\n",
        "  # Backward propagation calculations\n",
        "  # Layer 3\n",
        "  dJdz3 = a3 - y\n",
        "  dJdb3 = np.mean(dJdz3, axis = 1, keepdims=True)\n",
        "  dJdw3 = (1/m) * np.dot(a2, dJdz3.T)\n",
        "\n",
        "  # Layer 2\n",
        "  dJda2 = np.dot(w3, dJdz3)\n",
        "  dJdz2 = dJda2 * (z2 >= 0).astype(float)\n",
        "  dJdb2 = np.mean(dJdz2, axis = 1, keepdims=True)\n",
        "  dJdw2 = (1/m) * np.dot(a1, dJdz2.T)\n",
        "\n",
        "  # Layer 1\n",
        "  dJda1 = np.dot(w2, dJdz2)\n",
        "  dJdz1 = dJda1 * (z1 >= 0).astype(float)\n",
        "  dJdb1 = np.mean(dJdz1, axis = 1, keepdims=True)\n",
        "  dJdw1 = (1/m) * np.dot(x, dJdz1.T)\n",
        "\n",
        "  return({\n",
        "      'dJdb1': dJdb1,\n",
        "      'dJdw1': dJdw1,\n",
        "      'dJdb2': dJdb2,\n",
        "      'dJdw2': dJdw2,\n",
        "      'dJdb3': dJdb3,\n",
        "      'dJdw3': dJdw3\n",
        "  })"
      ],
      "execution_count": 0,
      "outputs": []
    },
    {
      "cell_type": "markdown",
      "metadata": {
        "id": "3_tep-avtLXd",
        "colab_type": "text"
      },
      "source": [
        "### 4. grad_check\n",
        "I have implemented this in the two functions below; you just need to run the code.  After the function definitions, there are calls to check the gradient for a bias parameter and a weight parameter in each of the 3 layers.  Your results should match to at least 6 or 7 decimal places.\n",
        "\n",
        "Although I have implemented this, you should know how this works!"
      ]
    },
    {
      "cell_type": "code",
      "metadata": {
        "id": "BCvqYgt1FfB5",
        "colab_type": "code",
        "outputId": "166193e8-1a38-4ca9-e66d-1641b18c8172",
        "colab": {
          "base_uri": "https://localhost:8080/",
          "height": 439
        }
      },
      "source": [
        "def loss(a3, y):\n",
        "  '''\n",
        "  Calculate the binary crossentropy loss\n",
        "\n",
        "  Arguments:\n",
        "    - a3: output from layer 3\n",
        "    - y: observed responses\n",
        "  \n",
        "  Return:\n",
        "    - binary cross entropy\n",
        "  '''\n",
        "  m = y.shape[1]\n",
        "  result = 0\n",
        "  for y_value in range(46):\n",
        "    inds = np.where(y[y_value, :] == 1.)\n",
        "    result += np.sum(np.log(a3[y_value, inds]))\n",
        "\n",
        "  return(-1 * result / m)\n",
        "\n",
        "def grad_check(param_name, ind1, ind2, eps = 0.000001):\n",
        "  '''\n",
        "  Calculate gradient check by finite differencing\n",
        "\n",
        "  Arguments:\n",
        "    - param_name: name of parameter to check, e.g. 'w1'\n",
        "    - ind1, ind2: indices to check for the specified parameter\n",
        "    - eps: amount to add and subtract from the given parameter value\n",
        "  \n",
        "  Returns:\n",
        "    - No return value.  Prints diagnostic messages.\n",
        "  '''\n",
        "  params = initialize_params(num_features = partial_x_train.shape[0])\n",
        "  forward_cache = forward_prop(params, partial_x_train)\n",
        "\n",
        "  params[param_name][ind1, ind2] = params[param_name][ind1, ind2] + eps\n",
        "  forward_cache_plus_eps = forward_prop(params, partial_x_train)\n",
        "  loss_plus_eps = loss(forward_cache_plus_eps['a3'], partial_y_train)\n",
        "\n",
        "  params[param_name][ind1, ind2] = params[param_name][ind1, ind2] - 2*eps\n",
        "  forward_cache_minus_eps = forward_prop(params, partial_x_train)\n",
        "  loss_minus_eps = loss(forward_cache_minus_eps['a3'], partial_y_train)\n",
        "\n",
        "  est_grad = (loss_plus_eps - loss_minus_eps) / (2 * eps)\n",
        "  calc_grad = backward_prop(params, partial_x_train, partial_y_train, forward_cache)\n",
        "\n",
        "  print(\"\\ncheck of dJd\" + param_name + \"[\" + str(ind1) + \", \" + str(ind2) + \"]\")\n",
        "  print(\"estimated derivative = \" + str(est_grad))\n",
        "  print(\"calculated derivative = \" + str(calc_grad['dJd' + param_name][ind1, ind2]))\n",
        "\n",
        "\n",
        "grad_check('b3', 0, 0)\n",
        "grad_check('w3', 1, 0)\n",
        "grad_check('b2', 0, 0)\n",
        "grad_check('w2', 1, 0)\n",
        "grad_check('b1', 0, 0)\n",
        "grad_check('w1', 1, 0)\n"
      ],
      "execution_count": 16,
      "outputs": [
        {
          "output_type": "stream",
          "text": [
            "\n",
            "check of dJdb3[0, 0]\n",
            "estimated derivative = 0.011951571288193463\n",
            "calculated derivative = 0.011951571483176356\n",
            "\n",
            "check of dJdw3[1, 0]\n",
            "estimated derivative = 0.0031107705300570387\n",
            "calculated derivative = 0.0031107697530570436\n",
            "\n",
            "check of dJdb2[0, 0]\n",
            "estimated derivative = 0.0003886091448634943\n",
            "calculated derivative = 0.0003886100569395781\n",
            "\n",
            "check of dJdw2[1, 0]\n",
            "estimated derivative = -0.00019852941512965572\n",
            "calculated derivative = -0.00019852902154475605\n",
            "\n",
            "check of dJdb1[0, 0]\n",
            "estimated derivative = -0.004426695898729349\n",
            "calculated derivative = -0.004426695243287879\n",
            "\n",
            "check of dJdw1[1, 0]\n",
            "estimated derivative = -0.004426695898729349\n",
            "calculated derivative = -0.004426695243287879\n"
          ],
          "name": "stdout"
        }
      ]
    },
    {
      "cell_type": "markdown",
      "metadata": {
        "id": "jAedPjUhvR_t",
        "colab_type": "text"
      },
      "source": [
        "### 5. fit_model"
      ]
    },
    {
      "cell_type": "markdown",
      "metadata": {
        "id": "Qb7sSkKuz0xo",
        "colab_type": "text"
      },
      "source": [
        "### Fit model by Stochastic Gradient Descent\n",
        "\n",
        "Below is almost the exact function from our lab implementing stochastic gradient descent -- I took out the training set accuracy calculation to save a little time."
      ]
    },
    {
      "cell_type": "code",
      "metadata": {
        "id": "8o2RhfxEaE9e",
        "colab_type": "code",
        "colab": {}
      },
      "source": [
        "def fit_model_SGD(\n",
        "    x_train,\n",
        "    y_train,\n",
        "    num_epochs,\n",
        "    minibatch_size,\n",
        "    learning_rate,\n",
        "    initial_params):\n",
        "  '''\n",
        "  Estimate model parameters by stochastic gradient descent (SGD)\n",
        "\n",
        "  Arguments:\n",
        "    - x_train: array of input features of shape (p, m)\n",
        "    - y_train: array of responses of shape (1, m)\n",
        "    - num_epochs: number of iterations of gradient descent to run\n",
        "    - minibatch_size: number of observations in each minibatch\n",
        "    - learning_rate: learning rate for gradient descent\n",
        "    - initial_params: dictionary of starting parameter values\n",
        "  \n",
        "  Return:\n",
        "    - Dictionary of parameter estimates b1, w1, b2, w2, b3, w3\n",
        "  '''\n",
        "  params = initial_params\n",
        "\n",
        "  # calculate size of each minibatch\n",
        "  m = x_train.shape[1]\n",
        "  num_minibatches = m // minibatch_size + 1\n",
        "\n",
        "  # for loop over the number of epochs\n",
        "  for i in range(num_epochs):\n",
        "    print(\"\\nepoch \" + str(i))\n",
        "    # for loop over minibatches within the current epoch\n",
        "    for j in range(num_minibatches):\n",
        "      # print progress indicator.  end = \"\" makes it so there is not a new line\n",
        "      # after each print statement\n",
        "      print(\".\", end = \"\")\n",
        "\n",
        "      # Set up a slice for the observation indices in the current minibatch\n",
        "      # Code to do this will be different depending on whether you're in the\n",
        "      # last minibatch or not.\n",
        "      if j == num_minibatches - 1:\n",
        "        minibatch_inds = slice(j*minibatch_size, m)\n",
        "      else:\n",
        "        minibatch_inds = slice(j*minibatch_size, (j+1)*minibatch_size)\n",
        "      \n",
        "      # pull out the x and y observations for this minibatch\n",
        "      x_train_minibatch = x_train[:, minibatch_inds]\n",
        "      y_train_minibatch = y_train[:, minibatch_inds]\n",
        "\n",
        "      # forward propagation based on this minibatch\n",
        "      forward_cache = forward_prop(params, x_train_minibatch)\n",
        "\n",
        "      # backward propagation based on this minibatch\n",
        "      calc_grad = backward_prop(params, x_train_minibatch, y_train_minibatch, forward_cache)\n",
        "\n",
        "      # gradient descent updates based on thsi minibatch\n",
        "      params['b1'] = params['b1'] - learning_rate * calc_grad['dJdb1']\n",
        "      params['w1'] = params['w1'] - learning_rate * calc_grad['dJdw1']\n",
        "      params['b2'] = params['b2'] - learning_rate * calc_grad['dJdb2']\n",
        "      params['w2'] = params['w2'] - learning_rate * calc_grad['dJdw2']\n",
        "      params['b3'] = params['b3'] - learning_rate * calc_grad['dJdb3']\n",
        "      params['w3'] = params['w3'] - learning_rate * calc_grad['dJdw3']\n",
        "  \n",
        "  # return parameters estimates\n",
        "  return(params)"
      ],
      "execution_count": 0,
      "outputs": []
    },
    {
      "cell_type": "markdown",
      "metadata": {
        "id": "kqtntev81T1t",
        "colab_type": "text"
      },
      "source": [
        "Now we can call the `fit_model_SGD` function to do stochastic gradient descent for our data set using 40 epochs, a minibatch size of 512 observations, and a learning rate of 0.1."
      ]
    },
    {
      "cell_type": "code",
      "metadata": {
        "id": "RTiuDwMCdDO8",
        "colab_type": "code",
        "outputId": "1b425686-855c-4c51-fedb-c462f45f1bc8",
        "colab": {
          "base_uri": "https://localhost:8080/",
          "height": 1000
        }
      },
      "source": [
        "# generate starting values for the parameters\n",
        "initial_params = initialize_params(num_features = partial_x_train.shape[0])\n",
        "\n",
        "# do estimation\n",
        "params_fit_mb = fit_model_SGD(\n",
        "  partial_x_train,\n",
        "  partial_y_train,\n",
        "  num_epochs=40,\n",
        "  minibatch_size=512,\n",
        "  learning_rate=0.1,\n",
        "  initial_params = initial_params)"
      ],
      "execution_count": 31,
      "outputs": [
        {
          "output_type": "stream",
          "text": [
            "\n",
            "epoch 0\n",
            "................\n",
            "epoch 1\n",
            "................\n",
            "epoch 2\n",
            "................\n",
            "epoch 3\n",
            "................\n",
            "epoch 4\n",
            "................\n",
            "epoch 5\n",
            "................\n",
            "epoch 6\n",
            "................\n",
            "epoch 7\n",
            "................\n",
            "epoch 8\n",
            "................\n",
            "epoch 9\n",
            "................\n",
            "epoch 10\n",
            "................\n",
            "epoch 11\n",
            "................\n",
            "epoch 12\n",
            "................\n",
            "epoch 13\n",
            "................\n",
            "epoch 14\n",
            "................\n",
            "epoch 15\n",
            "................\n",
            "epoch 16\n",
            "................\n",
            "epoch 17\n",
            "................\n",
            "epoch 18\n",
            "................\n",
            "epoch 19\n",
            "................\n",
            "epoch 20\n",
            "................\n",
            "epoch 21\n",
            "................\n",
            "epoch 22\n",
            "................\n",
            "epoch 23\n",
            "................\n",
            "epoch 24\n",
            "................\n",
            "epoch 25\n",
            "................\n",
            "epoch 26\n",
            "................\n",
            "epoch 27\n",
            "................\n",
            "epoch 28\n",
            "................\n",
            "epoch 29\n",
            "................\n",
            "epoch 30\n",
            "................\n",
            "epoch 31\n",
            "................\n",
            "epoch 32\n",
            "................\n",
            "epoch 33\n",
            "................\n",
            "epoch 34\n",
            "................\n",
            "epoch 35\n",
            "................\n",
            "epoch 36\n",
            "................\n",
            "epoch 37\n",
            "................\n",
            "epoch 38\n",
            "................\n",
            "epoch 39\n",
            "................"
          ],
          "name": "stdout"
        }
      ]
    },
    {
      "cell_type": "markdown",
      "metadata": {
        "id": "QKswX8LrDV_l",
        "colab_type": "text"
      },
      "source": [
        "Below, do the necessary calculations to find the test set prediction accuracy.  You will want to use the `np.argmax` function as you did on HW2.  Note that you will probably want to do this both to get y_test_hat and also to get a sparse representation of y_test to compare to when determining your test set accuracy.  Your test set accuracy is still not as good as what was achieved using Keras above, but it is not bad!  You could run estimation for longer to do even better."
      ]
    },
    {
      "cell_type": "code",
      "metadata": {
        "id": "y5-YGjBQjzc6",
        "colab_type": "code",
        "outputId": "994c0fad-2398-4741-e485-353eae64caaf",
        "colab": {
          "base_uri": "https://localhost:8080/",
          "height": 35
        }
      },
      "source": [
        "# call forward propagation to get the activation output from the network\n",
        "# based on the parameter estimates param_fit_mb and the test set features x_test\n",
        "test_forward = forward_prop(params_fit_mb, x_test)\n",
        "\n",
        "# get estimated y_test using np.argmax\n",
        "y_test_hat = np.argmax(test_forward['a3'], axis = 0)\n",
        "\n",
        "# get a sparse version of y_test using np.argmax\n",
        "y_test_sparse = np.argmax(y_test, axis = 0)\n",
        "\n",
        "# get test set accuracy by comparing y_test_hat and y_test_sparse\n",
        "np.mean(y_test_hat == y_test_sparse)"
      ],
      "execution_count": 35,
      "outputs": [
        {
          "output_type": "execute_result",
          "data": {
            "text/plain": [
              "0.7172751558325913"
            ]
          },
          "metadata": {
            "tags": []
          },
          "execution_count": 35
        }
      ]
    }
  ]
}